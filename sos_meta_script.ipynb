{
 "cells": [
  {
   "cell_type": "markdown",
   "metadata": {
    "kernel": "SoS"
   },
   "source": [
    "# Handbook\n",
    "\n",
    "This is a basic bash tutorial, which helps you to work with github repositories, run sos workflows, etc."
   ]
  },
  {
   "cell_type": "markdown",
   "metadata": {},
   "source": [
    "You can download this notebook and run bash codes here directly in this notebook(using bash kernel), or copy these codeds into your terminal. "
   ]
  },
  {
   "cell_type": "markdown",
   "metadata": {},
   "source": [
    "### Run with Jupyter\n",
    "\n",
    "Jupyter notebook is often used as an interactive tool in lab."
   ]
  },
  {
   "cell_type": "markdown",
   "metadata": {},
   "source": [
    "Download this notebook and launch it, you can launch it following this.\n",
    "\n",
    "\n",
    "https://www.codecademy.com/articles/how-to-use-jupyter-notebooks#:~:text=To%20launch%20a%20Jupyter%20notebook,(or%20another%20specified%20port)."
   ]
  },
  {
   "cell_type": "markdown",
   "metadata": {},
   "source": [
    "Please first making sure you have all the kernels needed. Other wise you will need to install them all:\n"
   ]
  },
  {
   "cell_type": "code",
   "execution_count": 8,
   "metadata": {},
   "outputs": [
    {
     "name": "stdout",
     "output_type": "stream",
     "text": [
      "Available kernels:\n",
      "  calysto_bash    /Users/shuaihaoyue/miniconda/share/jupyter/kernels/calysto_bash\n",
      "  ir              /Users/shuaihaoyue/miniconda/share/jupyter/kernels/ir\n",
      "  markdown        /Users/shuaihaoyue/miniconda/share/jupyter/kernels/markdown\n",
      "  python3         /Users/shuaihaoyue/miniconda/share/jupyter/kernels/python3\n",
      "  sos             /Users/shuaihaoyue/miniconda/share/jupyter/kernels/sos\n",
      "\n"
     ]
    }
   ],
   "source": [
    "jupyter kernelspec list"
   ]
  },
  {
   "cell_type": "markdown",
   "metadata": {},
   "source": [
    "To install kernels: \n",
    "\n",
    "```\n",
    "conda install sos-r sos-python sos-bash -c conda-forge\n",
    "```"
   ]
  },
  {
   "cell_type": "markdown",
   "metadata": {},
   "source": [
    "**Start working with git**\n",
    "\n",
    "Clone the repo:"
   ]
  },
  {
   "cell_type": "code",
   "execution_count": 1,
   "metadata": {},
   "outputs": [
    {
     "name": "stdout",
     "output_type": "stream",
     "text": [
      "Cloning into 'lab_tasks'...\n",
      "remote: Enumerating objects: 3, done.\u001b[K\n",
      "remote: Counting objects: 100% (3/3), done.\u001b[K\n",
      "remote: Compressing objects: 100% (3/3), done.\u001b[K\n",
      "remote: Total 94 (delta 0), reused 1 (delta 0), pack-reused 91\u001b[K\n",
      "Unpacking objects: 100% (94/94), done.\n",
      "\n"
     ]
    }
   ],
   "source": [
    "git clone https://github.com/haoyueshuai/lab_tasks"
   ]
  },
  {
   "cell_type": "markdown",
   "metadata": {},
   "source": [
    "Change working directory to this repo folder:"
   ]
  },
  {
   "cell_type": "code",
   "execution_count": 2,
   "metadata": {},
   "outputs": [
    {
     "name": "stdout",
     "output_type": "stream",
     "text": [
      "\n"
     ]
    }
   ],
   "source": [
    "cd lab_tasks/"
   ]
  },
  {
   "cell_type": "markdown",
   "metadata": {},
   "source": [
    "Now you should be able to find all the content of this repo in your local computer: "
   ]
  },
  {
   "cell_type": "code",
   "execution_count": 3,
   "metadata": {},
   "outputs": [
    {
     "name": "stdout",
     "output_type": "stream",
     "text": [
      "LMM.ipynb\t\tassignment.Rmd\t\tjupyter-setup.md\n",
      "LMM_MWE\t\t\tdata\t\t\tsignin.md\n",
      "README.md\t\tdebian-setup.md\t\tsos_meta_script.ipynb\n",
      "\n"
     ]
    }
   ],
   "source": [
    "ls"
   ]
  },
  {
   "cell_type": "markdown",
   "metadata": {},
   "source": [
    "Find the markdown file **signin.md**, and add yourself to the table:"
   ]
  },
  {
   "cell_type": "code",
   "execution_count": 4,
   "metadata": {},
   "outputs": [
    {
     "name": "stdout",
     "output_type": "stream",
     "text": [
      "\n"
     ]
    }
   ],
   "source": [
    "open signin.md"
   ]
  },
  {
   "cell_type": "markdown",
   "metadata": {},
   "source": [
    "Push the updates to github:"
   ]
  },
  {
   "cell_type": "code",
   "execution_count": 5,
   "metadata": {},
   "outputs": [
    {
     "name": "stdout",
     "output_type": "stream",
     "text": [
      "\n"
     ]
    }
   ],
   "source": [
    "git add signin.md"
   ]
  },
  {
   "cell_type": "code",
   "execution_count": 6,
   "metadata": {},
   "outputs": [
    {
     "name": "stdout",
     "output_type": "stream",
     "text": [
      "[main f45932b] update signin\n",
      " 2 files changed, 44 insertions(+), 6 deletions(-)\n",
      "\n"
     ]
    }
   ],
   "source": [
    "git commit -am 'update signin'"
   ]
  },
  {
   "cell_type": "code",
   "execution_count": 7,
   "metadata": {},
   "outputs": [
    {
     "name": "stdout",
     "output_type": "stream",
     "text": [
      "Enumerating objects: 7, done.\n",
      "Counting objects: 100% (7/7), done.\n",
      "Delta compression using up to 4 threads\n",
      "Compressing objects: 100% (4/4), done.\n",
      "Writing objects: 100% (4/4), 692 bytes | 692.00 KiB/s, done.\n",
      "Total 4 (delta 3), reused 0 (delta 0)\n",
      "remote: Resolving deltas: 100% (3/3), completed with 3 local objects.\u001b[K\n",
      "To https://github.com/haoyueshuai/lab_tasks\n",
      "   efb22a7..f45932b  main -> main\n",
      "\n"
     ]
    }
   ],
   "source": [
    "git push"
   ]
  },
  {
   "cell_type": "markdown",
   "metadata": {},
   "source": [
    "Now you should be able to find your name here!\n",
    "\n",
    "\n",
    "https://github.com/haoyueshuai/lab_tasks/blob/main/signin.md"
   ]
  },
  {
   "cell_type": "markdown",
   "metadata": {
    "kernel": "SoS"
   },
   "source": [
    "## Parameter setting"
   ]
  },
  {
   "cell_type": "code",
   "execution_count": 1,
   "metadata": {
    "kernel": "SoS"
   },
   "outputs": [],
   "source": [
    "[global]\n",
    "# parameter 1\n",
    "parameter: n = 1.0\n",
    "# parameter 2\n",
    "parameter: beta = [1.0,2.0,3.0]"
   ]
  },
  {
   "cell_type": "markdown",
   "metadata": {
    "kernel": "SoS"
   },
   "source": [
    "## Some Bash code"
   ]
  },
  {
   "cell_type": "code",
   "execution_count": 2,
   "metadata": {
    "kernel": "SoS"
   },
   "outputs": [],
   "source": [
    "# Print the value of n with bash\n",
    "[print_n]\n",
    "bash: expand = '${ }'\n",
    "    echo ${n}"
   ]
  },
  {
   "cell_type": "markdown",
   "metadata": {
    "kernel": "SoS"
   },
   "source": [
    "## Some other Bash code"
   ]
  },
  {
   "cell_type": "code",
   "execution_count": 3,
   "metadata": {
    "kernel": "SoS"
   },
   "outputs": [],
   "source": [
    "# Print the value of beta with bash\n",
    "[print_beta]\n",
    "bash: expand = '${ }'\n",
    "    echo ${beta}"
   ]
  },
  {
   "cell_type": "markdown",
   "metadata": {
    "kernel": "SoS"
   },
   "source": [
    "## Some Python code"
   ]
  },
  {
   "cell_type": "code",
   "execution_count": 4,
   "metadata": {
    "kernel": "SoS"
   },
   "outputs": [],
   "source": [
    "# Print log(beta) with Python\n",
    "[log_beta]\n",
    "python: expand = '${ }'\n",
    "    import numpy as np\n",
    "    print(np.log(${beta}))"
   ]
  },
  {
   "cell_type": "markdown",
   "metadata": {
    "kernel": "SoS"
   },
   "source": [
    "## Some R code"
   ]
  },
  {
   "cell_type": "code",
   "execution_count": 5,
   "metadata": {
    "kernel": "SoS"
   },
   "outputs": [],
   "source": [
    "# Print exp(n) with R\n",
    "[exp_n]\n",
    "R: expand = '${ }'\n",
    "    print(exp(${n}))"
   ]
  },
  {
   "cell_type": "markdown",
   "metadata": {
    "kernel": "SoS"
   },
   "source": [
    "## The SoS meta-script command interface"
   ]
  },
  {
   "cell_type": "code",
   "execution_count": 6,
   "metadata": {
    "kernel": "Bash"
   },
   "outputs": [
    {
     "name": "stdout",
     "output_type": "stream",
     "text": [
      "usage: sos run sos_meta_script.ipynb\n",
      "               [workflow_name | -t targets] [options] [workflow_options]\n",
      "  workflow_name:        Single or combined workflows defined in this script\n",
      "  targets:              One or more targets to generate\n",
      "  options:              Single-hyphen sos parameters (see \"sos run -h\" for details)\n",
      "  workflow_options:     Double-hyphen workflow-specific parameters\n",
      "\n",
      "Workflows:\n",
      "  print_n\n",
      "  print_beta\n",
      "  log_beta\n",
      "  exp_n\n",
      "\n",
      "Global Workflow Options:\n",
      "  --n 1.0 (as float)\n",
      "                        parameter 1\n",
      "  --beta 1.0 2.0 3.0 (as list)\n",
      "                        parameter 2\n",
      "\n",
      "Sections\n",
      "  print_n:              Print the value of n with bash\n",
      "  print_beta:           Print the value of beta with bash\n",
      "  log_beta:             Print log(beta) with Python\n",
      "  exp_n:                Print exp(n) with R\n"
     ]
    }
   ],
   "source": [
    "sos run sos_meta_script.ipynb -h"
   ]
  },
  {
   "cell_type": "markdown",
   "metadata": {
    "kernel": "Bash"
   },
   "source": [
    "### Run the script"
   ]
  },
  {
   "cell_type": "code",
   "execution_count": 7,
   "metadata": {
    "kernel": "Bash"
   },
   "outputs": [
    {
     "name": "stdout",
     "output_type": "stream",
     "text": [
      "INFO: Running \u001b[32mprint_n\u001b[0m: Print the value of n with bash\n",
      "1.0\n",
      "INFO: \u001b[32mprint_n\u001b[0m is \u001b[32mcompleted\u001b[0m.\n",
      "INFO: Workflow print_n (ID=2f0deb641c348bc0) is executed successfully with 1 completed step.\n"
     ]
    }
   ],
   "source": [
    "sos run sos_meta_script.ipynb print_n"
   ]
  },
  {
   "cell_type": "code",
   "execution_count": 8,
   "metadata": {
    "kernel": "Bash"
   },
   "outputs": [
    {
     "name": "stdout",
     "output_type": "stream",
     "text": [
      "INFO: Running \u001b[32mprint_n\u001b[0m: Print the value of n with bash\n",
      "666.0\n",
      "INFO: \u001b[32mprint_n\u001b[0m is \u001b[32mcompleted\u001b[0m.\n",
      "INFO: Workflow print_n (ID=9ac3e4e458ebad5b) is executed successfully with 1 completed step.\n"
     ]
    }
   ],
   "source": [
    "sos run sos_meta_script.ipynb print_n --n 666"
   ]
  },
  {
   "cell_type": "code",
   "execution_count": 9,
   "metadata": {
    "kernel": "Bash"
   },
   "outputs": [
    {
     "name": "stdout",
     "output_type": "stream",
     "text": [
      "INFO: Running \u001b[32mprint_beta\u001b[0m: Print the value of beta with bash\n",
      "[1.0, 2.0, 3.0]\n",
      "INFO: \u001b[32mprint_beta\u001b[0m is \u001b[32mcompleted\u001b[0m.\n",
      "INFO: Workflow print_beta (ID=fac0e4ef0176dddb) is executed successfully with 1 completed step.\n"
     ]
    }
   ],
   "source": [
    "sos run sos_meta_script.ipynb print_beta"
   ]
  },
  {
   "cell_type": "code",
   "execution_count": 10,
   "metadata": {
    "kernel": "Bash"
   },
   "outputs": [
    {
     "name": "stdout",
     "output_type": "stream",
     "text": [
      "INFO: Running \u001b[32mprint_beta\u001b[0m: Print the value of beta with bash\n",
      "[666.0]\n",
      "INFO: \u001b[32mprint_beta\u001b[0m is \u001b[32mcompleted\u001b[0m.\n",
      "INFO: Workflow print_beta (ID=8630459f46d0b5e2) is executed successfully with 1 completed step.\n"
     ]
    }
   ],
   "source": [
    "sos run sos_meta_script.ipynb print_beta --beta 666"
   ]
  },
  {
   "cell_type": "code",
   "execution_count": 11,
   "metadata": {
    "kernel": "Bash"
   },
   "outputs": [
    {
     "name": "stdout",
     "output_type": "stream",
     "text": [
      "INFO: Running \u001b[32mlog_beta\u001b[0m: Print log(beta) with Python\n",
      "[0.         0.69314718 1.09861229]\n",
      "INFO: \u001b[32mlog_beta\u001b[0m is \u001b[32mcompleted\u001b[0m.\n",
      "INFO: Workflow log_beta (ID=f1763841006f3b43) is executed successfully with 1 completed step.\n"
     ]
    }
   ],
   "source": [
    "sos run sos_meta_script.ipynb log_beta"
   ]
  },
  {
   "cell_type": "code",
   "execution_count": 12,
   "metadata": {
    "kernel": "Bash"
   },
   "outputs": [
    {
     "name": "stdout",
     "output_type": "stream",
     "text": [
      "INFO: Running \u001b[32mlog_beta\u001b[0m: Print log(beta) with Python\n",
      "[1.00000668]\n",
      "INFO: \u001b[32mlog_beta\u001b[0m is \u001b[32mcompleted\u001b[0m.\n",
      "INFO: Workflow log_beta (ID=494745ed0c2887a3) is executed successfully with 1 completed step.\n"
     ]
    }
   ],
   "source": [
    "sos run sos_meta_script.ipynb log_beta --beta 2.7183"
   ]
  },
  {
   "cell_type": "code",
   "execution_count": 13,
   "metadata": {
    "kernel": "Bash"
   },
   "outputs": [
    {
     "name": "stdout",
     "output_type": "stream",
     "text": [
      "INFO: Running \u001b[32mexp_n\u001b[0m: Print exp(n) with R\n",
      "[1] 2.718282\n",
      "INFO: \u001b[32mexp_n\u001b[0m is \u001b[32mcompleted\u001b[0m.\n",
      "INFO: Workflow exp_n (ID=124ee04421afafb8) is executed successfully with 1 completed step.\n"
     ]
    }
   ],
   "source": [
    "sos run sos_meta_script.ipynb exp_n"
   ]
  }
 ],
 "metadata": {
  "kernelspec": {
   "display_name": "Calysto Bash",
   "language": "bash",
   "name": "calysto_bash"
  },
  "language_info": {
   "file_extension": ".sh",
   "help_links": [
    {
     "text": "MetaKernel Magics",
     "url": "https://metakernel.readthedocs.io/en/latest/source/README.html"
    }
   ],
   "mimetype": "text/x-sh",
   "name": "bash",
   "version": "0.2.2"
  },
  "sos": {
   "default_kernel": "SoS",
   "kernels": [
    [
     "Bash",
     "bash",
     "Bash",
     "#E6EEFF",
     ""
    ],
    [
     "SoS",
     "sos",
     "",
     "",
     "sos"
    ]
   ],
   "panel": {
    "displayed": true,
    "height": 0,
    "style": "side"
   },
   "version": "0.20.5"
  }
 },
 "nbformat": 4,
 "nbformat_minor": 4
}
